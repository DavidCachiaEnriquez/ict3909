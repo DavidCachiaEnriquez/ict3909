{
  "cells": [
    {
      "cell_type": "code",
      "execution_count": null,
      "metadata": {
        "colab": {
          "base_uri": "https://localhost:8080/"
        },
        "id": "cKOxKUGecdgD",
        "outputId": "8797e0a6-b203-474d-d699-23fc58413eb7"
      },
      "outputs": [
        {
          "output_type": "stream",
          "name": "stdout",
          "text": [
            "Drive already mounted at /content/drive; to attempt to forcibly remount, call drive.mount(\"/content/drive\", force_remount=True).\n",
            "/content/drive/MyDrive/Final Year Project\n"
          ]
        }
      ],
      "source": [
        "# Importing Libraries\n",
        "from google.colab import drive\n",
        "import pandas as pd\n",
        "import os\n",
        "import time\n",
        "\n",
        "# Loading Drive Folder\n",
        "drive.mount('/content/drive')\n",
        "%cd /content/drive/MyDrive/Final Year Project/"
      ]
    },
    {
      "cell_type": "code",
      "execution_count": null,
      "metadata": {
        "id": "QQqL-u94IA5B"
      },
      "outputs": [],
      "source": [
        "# Dataset Location\n",
        "recolaDataLoc = \"Datasets/RECOLA/\"\n",
        "\n",
        "# List of CSV Files\n",
        "csvFiles = []\n",
        "\n",
        "for file in os.listdir(recolaDataLoc):\n",
        "    if file.endswith(\".csv\"):\n",
        "        csvFiles.append(file)"
      ]
    },
    {
      "cell_type": "code",
      "execution_count": null,
      "metadata": {
        "id": "dHoqZX07IA5F"
      },
      "outputs": [],
      "source": [
        "# Function to add new participant to the dataframe\n",
        "def addNewParticipant(df, recolaDataLoc, csv):\n",
        "    temp = pd.read_csv(recolaDataLoc + csv)\n",
        "    temp[\"Participant\"] = csv[1:-4]\n",
        "\n",
        "    # Checks if CSV file has any empty entries\n",
        "    nullChecker = temp.isna().any().any()\n",
        "    if not nullChecker:\n",
        "        df = pd.concat([df, temp], ignore_index = True)\n",
        "\n",
        "    return df"
      ]
    },
    {
      "cell_type": "code",
      "execution_count": null,
      "metadata": {
        "id": "Vcz7GeQBSs7e"
      },
      "outputs": [],
      "source": [
        "# Full data set (RecolaLabelled.csv)\n",
        "recolaLabelled = pd.DataFrame()\n",
        "\n",
        "print(csvFiles)\n",
        "\n",
        "# Adding entries to dataframes\n",
        "for csv in csvFiles:\n",
        "    recolaLabelled = addNewParticipant(recolaLabelled, recolaDataLoc, csv)\n",
        "\n",
        "# Pointer\n",
        "pointer = 7\n",
        "\n",
        "# Choosing the annotators for arousal and valence\n",
        "annotatorArousal = \"FM1 _x\"\n",
        "annotatorValence = \"FM1 _y\"\n",
        "\n",
        "if pointer == 7:\n",
        "  annotatorArousal = \"FM2 _x\"\n",
        "  annotatorValence = \"FM2 _y\""
      ]
    },
    {
      "cell_type": "code",
      "execution_count": null,
      "metadata": {
        "id": "2K1MWbS-IA5H"
      },
      "outputs": [],
      "source": [
        "# Function to normalize the data\n",
        "def normalizeColumn(df, ann):\n",
        "    min_value = df[ann].min()\n",
        "    max_value = df[ann].max()\n",
        "\n",
        "    # Define the desired min and max range\n",
        "    min_range = -1\n",
        "    max_range = 1\n",
        "\n",
        "    # Normalize the column using the formula\n",
        "    df[ann] = ((df[ann] - min_value) / (max_value - min_value)) * (max_range - min_range) + min_range\n",
        "\n",
        "# Normalizing the columns\n",
        "normalizeColumn(recolaLabelled, annotatorArousal)\n",
        "normalizeColumn(recolaLabelled, annotatorValence)\n",
        "\n",
        "# Finding the median\n",
        "medianArousal = recolaLabelled[annotatorArousal].median()\n",
        "medianValence = recolaLabelled[annotatorValence].median()"
      ]
    },
    {
      "cell_type": "code",
      "execution_count": null,
      "metadata": {
        "id": "--0qu4nZZYk8"
      },
      "outputs": [],
      "source": [
        "dataFrames = []\n",
        "\n",
        "# [RecolaLabelledFull,\n",
        "# RecolaArousalEpsilon05, RecolaArousalEpsilon1, RecolaArousalEpsilon15,\n",
        "# RecolaValenceEpsilon05, RecolaValenceEpsilon1, RecolaValenceEpsilon15,\n",
        "# RecolaLabelledFullAlt1]\n",
        "\n",
        "for i in range(8):\n",
        "  dataFrames.append(recolaLabelled.copy())\n",
        "\n",
        "# Epsilons for Arousal\n",
        "arousalEp = [0, 0.05, 0.1, 0.15, 0, 0, 0, 0]\n",
        "\n",
        "# Epsilons for Valence\n",
        "valenceEp = [0, 0, 0, 0, 0.05, 0.1, 0.15, 0]"
      ]
    },
    {
      "cell_type": "code",
      "execution_count": null,
      "metadata": {
        "id": "QP683XsGbnh_"
      },
      "outputs": [],
      "source": [
        "def createCSV(pointer, dataFrames, arousalEp, valenceEp,annAro, annVal):\n",
        "  print(\"Pointer \" + str(pointer))\n",
        "\n",
        "  df = dataFrames[pointer]\n",
        "  epsilonA = arousalEp[pointer]\n",
        "  epsilonV = valenceEp[pointer]\n",
        "\n",
        "  # Arousal\n",
        "  start = time.time()\n",
        "\n",
        "  df[\"classLabelArousal\"] = 0\n",
        "  epsilonUpA = medianArousal+epsilonA\n",
        "  epsilonDownA = medianArousal-epsilonA\n",
        "\n",
        "  for index, row in df.iterrows():\n",
        "    # If within bounding area, delete the row\n",
        "    if row[annAro] < epsilonUpA and row[annAro] > epsilonDownA:\n",
        "      df = df.drop(index)\n",
        "    # If higher than median, set to 1\n",
        "    elif row[annAro] > medianArousal:\n",
        "      df.at[index, \"classLabelArousal\"] = 1\n",
        "\n",
        "  end = time.time()\n",
        "  print(\"Arousal Done: \", end-start)\n",
        "\n",
        "  # Valence\n",
        "  start = time.time()\n",
        "\n",
        "  df[\"classLabelValence\"] = 0\n",
        "  epsilonUpV = medianValence+epsilonV\n",
        "  epsilonDownV = medianValence-epsilonV\n",
        "\n",
        "  for index, row in df.iterrows():\n",
        "    # If within bounding area, delete the row\n",
        "    if row[annVal] < epsilonUpV and row[annVal] > epsilonDownV:\n",
        "      df = df.drop(index)\n",
        "    # If higher than median, set to 1\n",
        "    elif row[annVal] > medianValence:\n",
        "      df.at[index, \"classLabelValence\"] = 1\n",
        "\n",
        "  end = time.time()\n",
        "  print(\"Valence Done: \", end-start)\n",
        "\n",
        "  # Saving\n",
        "  start = time.time()\n",
        "\n",
        "  if pointer == 0:\n",
        "    df.to_csv('Datasets/RecolaLabelledFull.csv', index=False)\n",
        "  elif pointer == 1:\n",
        "    df.to_csv('Datasets/RecolaArousalEpsilon05.csv', index=False)\n",
        "  elif pointer == 2:\n",
        "    df.to_csv('Datasets/RecolaArousalEpsilon1.csv', index=False)\n",
        "  elif pointer == 3:\n",
        "    df.to_csv('Datasets/RecolaArousalEpsilon15.csv', index=False)\n",
        "  elif pointer == 4:\n",
        "    df.to_csv('Datasets/RecolaValenceEpsilon05.csv', index=False)\n",
        "  elif pointer == 5:\n",
        "    df.to_csv('Datasets/RecolaValenceEpsilon1.csv', index=False)\n",
        "  elif pointer == 6:\n",
        "    df.to_csv('Datasets/RecolaValenceEpsilon15.csv', index=False)\n",
        "  elif pointer == 7:\n",
        "    df.to_csv('Datasets/RecolaLabelledFullAlt1.csv', index=False)\n",
        "\n",
        "  end = time.time()\n",
        "  print(\"Save Done: \", end-start)\n",
        "\n",
        "  print(\"Rows: \" + str(len(df)) + \"\\n\")"
      ]
    },
    {
      "cell_type": "code",
      "execution_count": null,
      "metadata": {
        "colab": {
          "base_uri": "https://localhost:8080/"
        },
        "id": "W4EFgbBa1dHG",
        "outputId": "71718fc0-7ff3-425c-83bf-5880949b0da2"
      },
      "outputs": [
        {
          "output_type": "stream",
          "name": "stdout",
          "text": [
            "Pointer 7\n",
            "Arousal Done:  13.481858253479004\n",
            "Valence Done:  14.4138822555542\n",
            "Save Done:  47.73934745788574\n",
            "Rows: 130593\n",
            "\n"
          ]
        }
      ],
      "source": [
        "# createCSV(pointer, dataFrames, arousalEp, valenceEp, annotatorArousal, annotatorValence)\n",
        "# createCSV(pointer, dataFrames, arousalEp, valenceEp, annotatorArousal, annotatorValence)\n",
        "# createCSV(pointer, dataFrames, arousalEp, valenceEp, annotatorArousal, annotatorValence)\n",
        "# createCSV(pointer, dataFrames, arousalEp, valenceEp, annotatorArousal, annotatorValence)\n",
        "# createCSV(pointer, dataFrames, arousalEp, valenceEp, annotatorArousal, annotatorValence)\n",
        "# createCSV(pointer, dataFrames, arousalEp, valenceEp, annotatorArousal, annotatorValence)\n",
        "# createCSV(pointer, dataFrames, arousalEp, valenceEp, annotatorArousal, annotatorValence)\n",
        "createCSV(pointer, dataFrames, arousalEp, valenceEp, annotatorArousal, annotatorValence)"
      ]
    }
  ],
  "metadata": {
    "colab": {
      "provenance": []
    },
    "kernelspec": {
      "display_name": "LAMDA-SSL",
      "language": "python",
      "name": "python3"
    },
    "language_info": {
      "codemirror_mode": {
        "name": "ipython",
        "version": 3
      },
      "file_extension": ".py",
      "mimetype": "text/x-python",
      "name": "python",
      "nbconvert_exporter": "python",
      "pygments_lexer": "ipython3",
      "version": "3.7.9"
    }
  },
  "nbformat": 4,
  "nbformat_minor": 0
}