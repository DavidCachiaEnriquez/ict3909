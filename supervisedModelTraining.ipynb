{
  "cells": [
    {
      "cell_type": "markdown",
      "metadata": {
        "id": "view-in-github",
        "colab_type": "text"
      },
      "source": [
        "<a href=\"https://colab.research.google.com/github/DavidCachiaEnriquez/ict3909/blob/main/supervisedModelTraining.ipynb\" target=\"_parent\"><img src=\"https://colab.research.google.com/assets/colab-badge.svg\" alt=\"Open In Colab\"/></a>"
      ]
    },
    {
      "cell_type": "code",
      "execution_count": null,
      "metadata": {
        "colab": {
          "base_uri": "https://localhost:8080/"
        },
        "id": "4kUYYwIgKW9k",
        "outputId": "450e20f1-0dfe-48e1-db51-3a00ff989fd7"
      },
      "outputs": [
        {
          "output_type": "stream",
          "name": "stdout",
          "text": [
            "Mounted at /content/drive\n",
            "/content/drive/MyDrive/Final Year Project\n"
          ]
        }
      ],
      "source": [
        "from google.colab import drive\n",
        "drive.mount('/content/drive', force_remount=True)\n",
        "%cd /content/drive/MyDrive/Final Year Project/"
      ]
    },
    {
      "cell_type": "code",
      "execution_count": null,
      "metadata": {
        "id": "gGEl7f3QKLPq"
      },
      "outputs": [],
      "source": [
        "# Dataset Name\n",
        "datasetName = \"RecolaLabelledFull\""
      ]
    },
    {
      "cell_type": "code",
      "execution_count": null,
      "metadata": {
        "id": "7EQTU6e0CIC7"
      },
      "outputs": [],
      "source": [
        "import pandas as pd\n",
        "\n",
        "# Dataset\n",
        "dataset = pd.read_csv(\"Datasets/\" + datasetName + '.csv')\n",
        "\n",
        "# Features\n",
        "audioFeatures = dataset.filter(regex=f'^{\"ComPar\"}|{\"audio_speech\"}', axis=1)\n",
        "visualFeatures = dataset.filter(regex=f'^{\"VIDEO\"}|{\"Face_detection\"}', axis=1)\n",
        "physiologyFeatures = dataset.filter(regex=f'^{\"ECG\"}|{\"EDA\"}', axis=1)\n",
        "allFeatures = dataset.filter(regex=f'^{\"ComPar\"}|{\"audio_speech\"}|{\"VIDEO\"}|{\"Face_detection\"}|{\"ECG\"}|{\"EDA\"}', axis=1)\n",
        "\n",
        "# Labels\n",
        "targetArousal = dataset[\"classLabelArousal\"]\n",
        "targetValence = dataset[\"classLabelValence\"]\n",
        "\n",
        "# Number of Folds\n",
        "folds = 9\n",
        "\n",
        "# Groups\n",
        "groups = list(dataset[\"Participant\"])"
      ]
    },
    {
      "cell_type": "code",
      "source": [
        "# Grouping data for easy running\n",
        "\n",
        "# Files\n",
        "filesGroup = [\"Audio-Arousal.csv\", \"Visual-Arousal.csv\", \"Physiology-Arousal.csv\", \"All-Arousal.csv\",\n",
        "             \"Audio-Valence.csv\", \"Visual-Valence.csv\", \"Physiology-Valence.csv\", \"All-Valence.csv\"]\n",
        "\n",
        "# Features\n",
        "featuresGroup = [audioFeatures, visualFeatures, physiologyFeatures, allFeatures,\n",
        "                 audioFeatures, visualFeatures, physiologyFeatures, allFeatures]\n",
        "\n",
        "# Targets\n",
        "targetsGroup = [targetArousal, targetArousal, targetArousal, targetArousal,\n",
        "                targetValence, targetValence, targetValence, targetValence]"
      ],
      "metadata": {
        "id": "dHofSCR-_F5q"
      },
      "execution_count": null,
      "outputs": []
    },
    {
      "cell_type": "markdown",
      "metadata": {
        "id": "ueBL3diqYAEQ"
      },
      "source": [
        "# Binary Logistic Regression"
      ]
    },
    {
      "cell_type": "code",
      "execution_count": null,
      "metadata": {
        "id": "eawYCJy_N039"
      },
      "outputs": [],
      "source": [
        "from sklearn.model_selection import GroupKFold\n",
        "from sklearn.linear_model import LogisticRegression\n",
        "import numpy as np\n",
        "from sklearn.metrics import accuracy_score, confusion_matrix, classification_report\n",
        "\n",
        "def binaryLogisticRegression(feature, label, folds, groups, fileName, folder):\n",
        "\n",
        "  # Initialize lists to store evaluation metrics for each fold\n",
        "  foldTrainAccuracies = []\n",
        "  foldTestAccuracies = []\n",
        "  foldConfMatrices = []\n",
        "\n",
        "  # Create a GroupKFold object for cross-validation\n",
        "  group_kfold = GroupKFold(n_splits=folds)\n",
        "\n",
        "  for train_index, test_index in group_kfold.split(feature, label, groups):\n",
        "    inputTrain, inputTest = feature.iloc[train_index], feature.iloc[test_index]\n",
        "    targetTrain, targetTest = label.iloc[train_index], label.iloc[test_index]\n",
        "\n",
        "    model = LogisticRegression(solver='liblinear', max_iter=100000)\n",
        "    model.fit(inputTrain, targetTrain)\n",
        "\n",
        "    # Training accuracy\n",
        "    y_train_pred = model.predict(inputTrain)\n",
        "    train_accuracy = accuracy_score(targetTrain, y_train_pred)\n",
        "    foldTrainAccuracies.append(train_accuracy)\n",
        "\n",
        "    # Testing accuracy\n",
        "    y_test_pred = model.predict(inputTest)\n",
        "    test_accuracy = accuracy_score(targetTest, y_test_pred)\n",
        "    foldTestAccuracies.append(test_accuracy)\n",
        "\n",
        "    confusion_matrix_result = confusion_matrix(targetTest, y_test_pred)\n",
        "    classification_report_result = classification_report(targetTest, y_test_pred)\n",
        "\n",
        "    # Store evaluation metrics for this fold\n",
        "    foldConfMatrices.append(confusion_matrix_result)\n",
        "\n",
        "  # Storing results in CSV per fold\n",
        "  for counter in range(len(foldTrainAccuracies)):\n",
        "    entry = {\"fold\":counter+1, \"trainingAccuracy\": foldTrainAccuracies[counter], \"testingAccuracy\": foldTestAccuracies[counter]}\n",
        "    entryDF = pd.DataFrame([entry])\n",
        "    csvFile = pd.concat([csvFile, entryDF], ignore_index=True)\n",
        "\n",
        "  csvFile.to_csv(\"SupervisedResults/\" + folder + \"/BinaryLogisticRegression/\" + fileName, index=False)\n",
        "\n",
        "  # Storing mean values and confusion matrix in txt file\n",
        "  txtFile = \"SupervisedResults/\" + folder + \"/BinaryLogisticRegression/\" + fileName[:len(fileName)-4] + \".txt\"\n",
        "  MTrainA = \"\\nMean Train Accuracy: \" + str(np.mean(foldTrainAccuracies))\n",
        "  MTestA = \"\\nMean Test Accuracy: \" + str(np.mean(foldTestAccuracies))\n",
        "  CM = \"\\nConfusion Matrices:\\n\" + str(np.mean(foldConfMatrices, axis=0))\n",
        "\n",
        "  with open(txtFile, \"w\") as file:\n",
        "    file.write(MTrainA)\n",
        "    file.write(MTestA)\n",
        "    file.write(CM)\n",
        "    file.close"
      ]
    },
    {
      "cell_type": "code",
      "source": [
        "import time\n",
        "\n",
        "def runBLR(features, labels, folds, groups, fileNames, datasetName):\n",
        "  for counter in range(len(fileNames)):\n",
        "    start = time.time()\n",
        "    print(\"File name: \" + fileNames[counter])\n",
        "    binaryLogisticRegression(features[counter], labels[counter], folds, groups, fileNames[counter], datasetName)\n",
        "    end = time.time()\n",
        "    print(\"Time taken: \" + str(end-start) + \"\\n\")"
      ],
      "metadata": {
        "id": "4zbJLeYe9skb"
      },
      "execution_count": null,
      "outputs": []
    },
    {
      "cell_type": "markdown",
      "metadata": {
        "id": "xDx_I_he9RCt"
      },
      "source": [
        "# Random Forest"
      ]
    },
    {
      "cell_type": "code",
      "execution_count": null,
      "metadata": {
        "id": "UpUJzOsR5dAC"
      },
      "outputs": [],
      "source": [
        "from sklearn.ensemble import RandomForestClassifier\n",
        "\n",
        "def randomForest(feature, label, folds, groups, fileName, folder):\n",
        "    csvFile = pd.DataFrame({\"fold\": [], \"trainingAccuracy\": [], \"testingAccuracy\": []})\n",
        "\n",
        "    # Initialize lists to store evaluation metrics for each fold\n",
        "    foldTrainAccuracies = []\n",
        "    foldTestAccuracies = []\n",
        "    foldConfMatrices = []\n",
        "\n",
        "    # Create a GroupKFold object for cross-validation\n",
        "    group_kfold = GroupKFold(n_splits=folds)\n",
        "\n",
        "    for train_index, test_index in group_kfold.split(feature, label, groups):\n",
        "        inputTrain, inputTest = feature.iloc[train_index], feature.iloc[test_index]\n",
        "        targetTrain, targetTest = label.iloc[train_index], label.iloc[test_index]\n",
        "\n",
        "        model = RandomForestClassifier(n_estimators=50, random_state=42)\n",
        "        model.fit(inputTrain, targetTrain)\n",
        "\n",
        "        # Training accuracy\n",
        "        y_train_pred = model.predict(inputTrain)\n",
        "        train_accuracy = accuracy_score(targetTrain, y_train_pred)\n",
        "        foldTrainAccuracies.append(train_accuracy)\n",
        "\n",
        "        # Testing accuracy\n",
        "        y_test_pred = model.predict(inputTest)\n",
        "        test_accuracy = accuracy_score(targetTest, y_test_pred)\n",
        "        foldTestAccuracies.append(test_accuracy)\n",
        "\n",
        "        confusion_matrix_result = confusion_matrix(targetTest, y_test_pred)\n",
        "        classification_report_result = classification_report(targetTest, y_test_pred)\n",
        "\n",
        "        # Store evaluation metrics for this fold\n",
        "        foldConfMatrices.append(confusion_matrix_result)\n",
        "\n",
        "    for counter in range(len(foldTrainAccuracies)):\n",
        "        entry = {\"fold\":counter+1, \"trainingAccuracy\": foldTrainAccuracies[counter], \"testingAccuracy\": foldTestAccuracies[counter]}\n",
        "        entryDF = pd.DataFrame([entry])\n",
        "        csvFile = pd.concat([csvFile, entryDF], ignore_index=True)\n",
        "\n",
        "    csvFile.to_csv(\"SupervisedResults/\" + folder + \"/RandomForest/\" + fileName, index=False)\n",
        "\n",
        "\n",
        "    txtFile = \"SupervisedResults/\" + folder + \"/RandomForest/\" + fileName[:len(fileName)-4] + \".txt\"\n",
        "    MTrainA = \"\\nMean Train Accuracy: \" + str(np.mean(foldTrainAccuracies))\n",
        "    MTestA = \"\\nMean Test Accuracy: \" + str(np.mean(foldTestAccuracies))\n",
        "    CM = \"\\nConfusion Matrices:\\n\" + str(np.mean(foldConfMatrices, axis=0))\n",
        "\n",
        "    with open(txtFile, \"w\") as file:\n",
        "      file.write(MTrainA)\n",
        "      file.write(MTestA)\n",
        "      file.write(CM)\n",
        "      file.close"
      ]
    },
    {
      "cell_type": "code",
      "source": [
        "def runRF(features, labels, folds, groups, fileNames, datasetName):\n",
        "  for counter in range(len(fileNames)):\n",
        "    start = time.time()\n",
        "    print(\"File name: \" + fileNames[counter])\n",
        "    randomForest(features[counter], labels[counter], folds, groups, fileNames[counter], datasetName)\n",
        "    end = time.time()\n",
        "    print(\"Time taken: \" + str(end-start) + \"\\n\")"
      ],
      "metadata": {
        "id": "fQZmnzvfBWKT"
      },
      "execution_count": null,
      "outputs": []
    },
    {
      "cell_type": "markdown",
      "metadata": {
        "id": "agk4eRtZ9NZI"
      },
      "source": [
        "# Neural Network  \n",
        "  "
      ]
    },
    {
      "cell_type": "code",
      "execution_count": null,
      "metadata": {
        "id": "9BS0w6c18lTg"
      },
      "outputs": [],
      "source": [
        "from sklearn.neural_network import MLPClassifier\n",
        "\n",
        "def neuralNetwork(feature, label, folds, groups, fileName, folder):\n",
        "    csvFile = pd.DataFrame({\"fold\": [], \"trainingAccuracy\": [], \"testingAccuracy\": []})\n",
        "\n",
        "    # Initialize lists to store evaluation metrics for each fold\n",
        "    foldTrainAccuracies = []\n",
        "    foldTestAccuracies = []\n",
        "    foldConfMatrices = []\n",
        "\n",
        "    # Create a GroupKFold object for cross-validation\n",
        "    group_kfold = GroupKFold(n_splits=folds)\n",
        "\n",
        "    for train_index, test_index in group_kfold.split(feature, label, groups):\n",
        "        inputTrain, inputTest = feature.iloc[train_index], feature.iloc[test_index]\n",
        "        targetTrain, targetTest = label.iloc[train_index], label.iloc[test_index]\n",
        "\n",
        "        model = MLPClassifier(hidden_layer_sizes=(32,), max_iter=10000, random_state=42)\n",
        "        model.fit(inputTrain, targetTrain)\n",
        "\n",
        "        # Training accuracy\n",
        "        y_train_pred = model.predict(inputTrain)\n",
        "        train_accuracy = accuracy_score(targetTrain, y_train_pred)\n",
        "        foldTrainAccuracies.append(train_accuracy)\n",
        "\n",
        "        # Testing accuracy\n",
        "        y_test_pred = model.predict(inputTest)\n",
        "        test_accuracy = accuracy_score(targetTest, y_test_pred)\n",
        "        foldTestAccuracies.append(test_accuracy)\n",
        "\n",
        "        confusion_matrix_result = confusion_matrix(targetTest, y_test_pred)\n",
        "        classification_report_result = classification_report(targetTest, y_test_pred)\n",
        "\n",
        "        # Store evaluation metrics for this fold\n",
        "        foldConfMatrices.append(confusion_matrix_result)\n",
        "\n",
        "    for counter in range(len(foldTrainAccuracies)):\n",
        "        entry = {\"fold\":counter+1, \"trainingAccuracy\": foldTrainAccuracies[counter], \"testingAccuracy\": foldTestAccuracies[counter]}\n",
        "        entryDF = pd.DataFrame([entry])\n",
        "        csvFile = pd.concat([csvFile, entryDF], ignore_index=True)\n",
        "\n",
        "    csvFile.to_csv(\"SupervisedResults/\" + folder + \"/NeuralNetwork/\" + fileName, index=False)\n",
        "\n",
        "\n",
        "    txtFile = \"SupervisedResults/\" + folder + \"/NeuralNetwork/\" + fileName[:len(fileName)-4] + \".txt\"\n",
        "    MTrainA = \"\\nMean Train Accuracy: \" + str(np.mean(foldTrainAccuracies))\n",
        "    MTestA = \"\\nMean Test Accuracy: \" + str(np.mean(foldTestAccuracies))\n",
        "    CM = \"\\nConfusion Matrices:\\n\" + str(np.mean(foldConfMatrices, axis=0))\n",
        "\n",
        "    with open(txtFile, \"w\") as file:\n",
        "      file.write(MTrainA)\n",
        "      file.write(MTestA)\n",
        "      file.write(CM)\n",
        "      file.close"
      ]
    },
    {
      "cell_type": "code",
      "source": [
        "def runNN(features, labels, folds, groups, fileNames, datasetName):\n",
        "  for counter in range(len(fileNames)):\n",
        "    start = time.time()\n",
        "    print(\"File name: \" + fileNames[counter])\n",
        "    neuralNetwork(features[counter], labels[counter], folds, groups, fileNames[counter], datasetName)\n",
        "    end = time.time()\n",
        "    print(\"Time taken: \" + str(end-start) + \"\\n\")"
      ],
      "metadata": {
        "id": "iZmfMpH9FAsG"
      },
      "execution_count": null,
      "outputs": []
    },
    {
      "cell_type": "markdown",
      "metadata": {
        "id": "wzopGw7tBA86"
      },
      "source": [
        "---"
      ]
    },
    {
      "cell_type": "code",
      "source": [
        "# runBLR(featuresGroup, targetsGroup, folds, groups, filesGroup, datasetName)\n",
        "# runRF(featuresGroup[0], targetsGroup[0], folds, groups, filesGroup[0], datasetName)\n",
        "# runNN(featuresGroup[0], targetsGroup[0], folds, groups, filesGroup[0], datasetName)"
      ],
      "metadata": {
        "id": "PHXEyxoAFs_2"
      },
      "execution_count": null,
      "outputs": []
    }
  ],
  "metadata": {
    "colab": {
      "provenance": [],
      "include_colab_link": true
    },
    "kernelspec": {
      "display_name": "Python 3",
      "name": "python3"
    },
    "language_info": {
      "codemirror_mode": {
        "name": "ipython",
        "version": 3
      },
      "file_extension": ".py",
      "mimetype": "text/x-python",
      "name": "python",
      "nbconvert_exporter": "python",
      "pygments_lexer": "ipython3",
      "version": "3.9.13"
    }
  },
  "nbformat": 4,
  "nbformat_minor": 0
}